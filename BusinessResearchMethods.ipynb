{
 "cells": [
  {
   "cell_type": "code",
   "execution_count": 137,
   "metadata": {},
   "outputs": [],
   "source": [
    "import pandas as pd\n",
    "import numpy as np\n",
    "import matplotlib.pyplot as plt\n",
    "from sklearn.linear_model import LinearRegression\n",
    "from sklearn.preprocessing import StandardScaler\n",
    "from scipy.stats import pearsonr, normaltest, ttest_ind\n"
   ]
  },
  {
   "cell_type": "code",
   "execution_count": 138,
   "metadata": {},
   "outputs": [
    {
     "data": {
      "text/html": [
       "<div>\n",
       "<style scoped>\n",
       "    .dataframe tbody tr th:only-of-type {\n",
       "        vertical-align: middle;\n",
       "    }\n",
       "\n",
       "    .dataframe tbody tr th {\n",
       "        vertical-align: top;\n",
       "    }\n",
       "\n",
       "    .dataframe thead th {\n",
       "        text-align: right;\n",
       "    }\n",
       "</style>\n",
       "<table border=\"1\" class=\"dataframe\">\n",
       "  <thead>\n",
       "    <tr style=\"text-align: right;\">\n",
       "      <th></th>\n",
       "      <th>Financial Knowledge Score</th>\n",
       "      <th>Financial Behaviour Score</th>\n",
       "      <th>Financial Attitudes Score</th>\n",
       "      <th>Financial Literacy Score</th>\n",
       "      <th>Economy Type</th>\n",
       "    </tr>\n",
       "    <tr>\n",
       "      <th>Country or Economy</th>\n",
       "      <th></th>\n",
       "      <th></th>\n",
       "      <th></th>\n",
       "      <th></th>\n",
       "      <th></th>\n",
       "    </tr>\n",
       "  </thead>\n",
       "  <tbody>\n",
       "    <tr>\n",
       "      <th>Albania</th>\n",
       "      <td>20.159410</td>\n",
       "      <td>22.994884</td>\n",
       "      <td>13.245693</td>\n",
       "      <td>56.399986</td>\n",
       "      <td>Developing</td>\n",
       "    </tr>\n",
       "    <tr>\n",
       "      <th>Brazil</th>\n",
       "      <td>18.557501</td>\n",
       "      <td>30.490000</td>\n",
       "      <td>10.591250</td>\n",
       "      <td>59.638748</td>\n",
       "      <td>Developing</td>\n",
       "    </tr>\n",
       "    <tr>\n",
       "      <th>Cambodia</th>\n",
       "      <td>14.531676</td>\n",
       "      <td>23.787230</td>\n",
       "      <td>10.289666</td>\n",
       "      <td>48.608570</td>\n",
       "      <td>Developing</td>\n",
       "    </tr>\n",
       "    <tr>\n",
       "      <th>Chile</th>\n",
       "      <td>21.588284</td>\n",
       "      <td>24.488449</td>\n",
       "      <td>10.030941</td>\n",
       "      <td>56.107674</td>\n",
       "      <td>Developing</td>\n",
       "    </tr>\n",
       "    <tr>\n",
       "      <th>Costa Rica</th>\n",
       "      <td>20.705128</td>\n",
       "      <td>25.901709</td>\n",
       "      <td>9.867521</td>\n",
       "      <td>56.474358</td>\n",
       "      <td>Developing</td>\n",
       "    </tr>\n",
       "  </tbody>\n",
       "</table>\n",
       "</div>"
      ],
      "text/plain": [
       "                    Financial Knowledge Score  Financial Behaviour Score  \\\n",
       "Country or Economy                                                         \n",
       "Albania                             20.159410                  22.994884   \n",
       "Brazil                              18.557501                  30.490000   \n",
       "Cambodia                            14.531676                  23.787230   \n",
       "Chile                               21.588284                  24.488449   \n",
       "Costa Rica                          20.705128                  25.901709   \n",
       "\n",
       "                    Financial Attitudes Score  Financial Literacy Score  \\\n",
       "Country or Economy                                                        \n",
       "Albania                             13.245693                 56.399986   \n",
       "Brazil                              10.591250                 59.638748   \n",
       "Cambodia                            10.289666                 48.608570   \n",
       "Chile                               10.030941                 56.107674   \n",
       "Costa Rica                           9.867521                 56.474358   \n",
       "\n",
       "                   Economy Type  \n",
       "Country or Economy               \n",
       "Albania              Developing  \n",
       "Brazil               Developing  \n",
       "Cambodia             Developing  \n",
       "Chile                Developing  \n",
       "Costa Rica           Developing  "
      ]
     },
     "execution_count": 138,
     "metadata": {},
     "output_type": "execute_result"
    }
   ],
   "source": [
    "df = pd.read_excel(\"finwellbeing.xlsx\")\n",
    "df = df.set_index('Country or Economy')\n",
    "df.head()"
   ]
  },
  {
   "cell_type": "code",
   "execution_count": 139,
   "metadata": {},
   "outputs": [
    {
     "name": "stdout",
     "output_type": "stream",
     "text": [
      "                           Financial Knowledge Score  \\\n",
      "Financial Knowledge Score                   1.000000   \n",
      "Financial Behaviour Score                   0.138143   \n",
      "Financial Attitudes Score                   0.321436   \n",
      "Financial Literacy Score                    0.741831   \n",
      "\n",
      "                           Financial Behaviour Score  \\\n",
      "Financial Knowledge Score                   0.138143   \n",
      "Financial Behaviour Score                   1.000000   \n",
      "Financial Attitudes Score                   0.314430   \n",
      "Financial Literacy Score                    0.726173   \n",
      "\n",
      "                           Financial Attitudes Score  Financial Literacy Score  \n",
      "Financial Knowledge Score                   0.321436                  0.741831  \n",
      "Financial Behaviour Score                   0.314430                  0.726173  \n",
      "Financial Attitudes Score                   1.000000                  0.618996  \n",
      "Financial Literacy Score                    0.618996                  1.000000  \n"
     ]
    }
   ],
   "source": [
    "# Compute the correlation matrix\n",
    "correlation_matrix = df.drop(['Economy Type'],axis=1).corr()\n",
    "print(correlation_matrix)\n"
   ]
  },
  {
   "cell_type": "code",
   "execution_count": 140,
   "metadata": {},
   "outputs": [
    {
     "data": {
      "text/plain": [
       "<Axes: title={'center': 'Histogram of Financial Knowledge Score'}, ylabel='Frequency'>"
      ]
     },
     "execution_count": 140,
     "metadata": {},
     "output_type": "execute_result"
    },
    {
     "data": {
      "image/png": "[encoded data removed]",
      "text/plain": [
       "<Figure size 432x288 with 1 Axes>"
      ]
     },
     "metadata": {
      "needs_background": "light"
     },
     "output_type": "display_data"
    }
   ],
   "source": [
    "#See if the distribution is Normal\n",
    "df['Financial Knowledge Score'].plot(kind='hist', title='Histogram of Financial Knowledge Score')\n"
   ]
  },
  {
   "cell_type": "code",
   "execution_count": 141,
   "metadata": {},
   "outputs": [],
   "source": [
    "# Assuming 'data' is your dataset in a pandas DataFrame\n",
    "# Replace 'data' with your actual dataset variable\n",
    "\n",
    "# Initialize the StandardScaler\n",
    "scaler = StandardScaler()\n",
    "\n",
    "# Fit and transform the data to normalize it\n",
    "normalized_data = scaler.fit_transform(df.drop('Economy Type',axis=1))\n",
    "\n",
    "# Convert the normalized data back to a pandas DataFrame\n",
    "normalized_df = pd.DataFrame(normalized_data, columns=df.drop('Economy Type',axis=1).columns)"
   ]
  },
  {
   "cell_type": "code",
   "execution_count": 142,
   "metadata": {},
   "outputs": [],
   "source": [
    "# Fit Linear Regression Model\n",
    "def scatter_plot(normalized_df,factor):\n",
    "    X = normalized_df[[factor]]\n",
    "    y = normalized_df['Financial Behaviour Score']\n",
    "\n",
    "    model = LinearRegression()\n",
    "    model.fit(X, y)\n",
    "\n",
    "    # Create a scatter plot\n",
    "    plt.figure(figsize=(10, 6))\n",
    "    plt.scatter(X, y, color='blue', alpha=0.7)\n",
    "    plt.plot(X, model.predict(X), color='red', linewidth=2)  # Plot the regression line\n",
    "    plt.title('Scatter Plot with Linear Regression Line')\n",
    "    plt.xlabel(factor)\n",
    "    plt.ylabel('Financial Behaviour Score')\n",
    "    plt.grid(True)\n",
    "    plt.show()\n",
    "\n",
    "    # Print the coefficients of the linear regression model\n",
    "    print('Coefficient:', model.coef_[0])\n",
    "    print('Intercept:', model.intercept_)\n",
    "    print(f'{model.coef_[0]}x + {model.intercept_}')\n"
   ]
  },
  {
   "cell_type": "code",
   "execution_count": 143,
   "metadata": {},
   "outputs": [
    {
     "name": "stdout",
     "output_type": "stream",
     "text": [
      "for Developing countries,\n",
      "Correlation between Financial Behaviour Score and Financial Knowledge Score: -0.12495272680535668, p-value: 1.734091605416133e-05, t-test: 4.996833286770083\n",
      "Correlation between Financial Behaviour Score and Financial Attitudes Score: 0.4395382434229296, p-value: 1.6749857994718295e-16, t-test: 14.938138513939533\n",
      "Correlation between Financial Behaviour Score and Financial Literacy Score: 0.7228519035118662, p-value: 4.0796674396051016e-19, t-test: -18.21854804186528\n",
      "\n",
      "The factor that has the highest correlation with Financial Behaviour Score is:\n",
      " ▣ Financial Literacy Score\n"
     ]
    },
    {
     "data": {
      "image/png": "[encoded data removed]",
      "text/plain": [
       "<Figure size 720x432 with 1 Axes>"
      ]
     },
     "metadata": {
      "needs_background": "light"
     },
     "output_type": "display_data"
    },
    {
     "name": "stdout",
     "output_type": "stream",
     "text": [
      "Coefficient: 0.47619446650549785\n",
      "Intercept: -1.0202017678001951\n",
      "0.47619446650549785x + -1.0202017678001951\n"
     ]
    }
   ],
   "source": [
    "\n",
    "# Calculate the correlation between each factor and Financial Behaviour Score\n",
    "correlations = {}\n",
    "\n",
    "EconomicType = ['Developing', 'Developed'][0]\n",
    "typed_df = df.loc[df['Economy Type']==EconomicType] \n",
    "\n",
    "for column in typed_df.drop('Economy Type',axis=1).columns[:]:\n",
    "    if column != 'Financial Behaviour Score':\n",
    "        corr, _ = pearsonr(typed_df['Financial Behaviour Score'], typed_df[column])\n",
    "        t_stat, p_value = ttest_ind(typed_df['Financial Behaviour Score'], typed_df[column])\n",
    "        correlations[column] = {'correlation': corr, 'p-value': p_value,'t_stat':t_stat}\n",
    "\n",
    "# Find the factor with the highest correlation\n",
    "max_corr_factor = max(correlations, key=lambda x: abs(correlations[x]['correlation']))\n",
    "\n",
    "print(f'for {EconomicType} countries,')\n",
    "\n",
    "# Output the correlation results and confidence levels\n",
    "for factor, values in correlations.items():\n",
    "    print(f\"Correlation between Financial Behaviour Score and {factor}: {values['correlation']}, p-value: {values['p-value']}, t-test: {values['t_stat']}\")\n",
    "\n",
    "print(f\"\\nThe factor that has the highest correlation with Financial Behaviour Score is:\\n ▣ {max_corr_factor}\")\n",
    "scatter_plot(typed_df,max_corr_factor)"
   ]
  },
  {
   "cell_type": "code",
   "execution_count": 144,
   "metadata": {},
   "outputs": [
    {
     "name": "stdout",
     "output_type": "stream",
     "text": [
      "for Developed countries,\n",
      "Correlation between Financial Behaviour Score and Financial Knowledge Score: 0.0942550187578039, p-value: 6.401758992284687e-05, t-test: 4.464658246800976\n",
      "Correlation between Financial Behaviour Score and Financial Attitudes Score: 0.05007105414535357, p-value: 3.29069471712891e-23, t-test: 20.996220088493303\n",
      "Correlation between Financial Behaviour Score and Financial Literacy Score: 0.6612596997868992, p-value: 1.5479141411415593e-25, t-test: -24.254734857982086\n",
      "\n",
      "The factor that has the highest correlation with Financial Behaviour Score is:\n",
      " ▣ Financial Literacy Score\n"
     ]
    },
    {
     "data": {
      "image/png": "[encoded data removed]",
      "text/plain": [
       "<Figure size 720x432 with 1 Axes>"
      ]
     },
     "metadata": {
      "needs_background": "light"
     },
     "output_type": "display_data"
    },
    {
     "name": "stdout",
     "output_type": "stream",
     "text": [
      "Coefficient: 0.3875683942319014\n",
      "Intercept: 3.8102749065754686\n",
      "0.3875683942319014x + 3.8102749065754686\n"
     ]
    }
   ],
   "source": [
    "\n",
    "# Calculate the correlation between each factor and Financial Behaviour Score\n",
    "correlations = {}\n",
    "\n",
    "EconomicType = ['Developing', 'Developed'][1]\n",
    "typed_df = df.loc[df['Economy Type']==EconomicType] \n",
    "\n",
    "for column in typed_df.drop('Economy Type',axis=1).columns[:]:\n",
    "    if column != 'Financial Behaviour Score':\n",
    "        corr, _ = pearsonr(typed_df['Financial Behaviour Score'], typed_df[column])\n",
    "        t_stat, p_value = ttest_ind(typed_df['Financial Behaviour Score'], typed_df[column])\n",
    "        correlations[column] = {'correlation': corr, 'p-value': p_value,'t_stat':t_stat}\n",
    "\n",
    "# Find the factor with the highest correlation\n",
    "max_corr_factor = max(correlations, key=lambda x: abs(correlations[x]['correlation']))\n",
    "\n",
    "print(f'for {EconomicType} countries,')\n",
    "\n",
    "# Output the correlation results and confidence levels\n",
    "for factor, values in correlations.items():\n",
    "    print(f\"Correlation between Financial Behaviour Score and {factor}: {values['correlation']}, p-value: {values['p-value']}, t-test: {values['t_stat']}\")\n",
    "\n",
    "print(f\"\\nThe factor that has the highest correlation with Financial Behaviour Score is:\\n ▣ {max_corr_factor}\")\n",
    "scatter_plot(typed_df,max_corr_factor)"
   ]
  },
  {
   "cell_type": "code",
   "execution_count": 145,
   "metadata": {},
   "outputs": [
    {
     "name": "stderr",
     "output_type": "stream",
     "text": [
      "c:\\Users\\JDJ\\AppData\\Local\\Programs\\Python\\Python310\\lib\\site-packages\\scipy\\stats\\_stats_py.py:110: RuntimeWarning: The input array could not be properly checked for nan values. nan values will be ignored.\n",
      "  warnings.warn(\"The input array could not be properly \"\n"
     ]
    },
    {
     "ename": "TypeError",
     "evalue": "unsupported operand type(s) for /: 'str' and 'int'",
     "output_type": "error",
     "traceback": [
      "\u001b[1;31m---------------------------------------------------------------------------\u001b[0m",
      "\u001b[1;31mTypeError\u001b[0m                                 Traceback (most recent call last)",
      "\u001b[1;32m~\\AppData\\Local\\Temp/ipykernel_43800/55571903.py\u001b[0m in \u001b[0;36m<module>\u001b[1;34m\u001b[0m\n\u001b[0;32m      3\u001b[0m \u001b[1;33m\u001b[0m\u001b[0m\n\u001b[0;32m      4\u001b[0m \u001b[1;32mfor\u001b[0m \u001b[0mcolumn\u001b[0m \u001b[1;32min\u001b[0m \u001b[0mdf\u001b[0m\u001b[1;33m.\u001b[0m\u001b[0mcolumns\u001b[0m\u001b[1;33m:\u001b[0m\u001b[1;33m\u001b[0m\u001b[1;33m\u001b[0m\u001b[0m\n\u001b[1;32m----> 5\u001b[1;33m     \u001b[0mstatistic\u001b[0m\u001b[1;33m,\u001b[0m \u001b[0mp_value\u001b[0m \u001b[1;33m=\u001b[0m \u001b[0mnormaltest\u001b[0m\u001b[1;33m(\u001b[0m\u001b[0mdf\u001b[0m\u001b[1;33m[\u001b[0m\u001b[0mcolumn\u001b[0m\u001b[1;33m]\u001b[0m\u001b[1;33m)\u001b[0m\u001b[1;33m\u001b[0m\u001b[1;33m\u001b[0m\u001b[0m\n\u001b[0m\u001b[0;32m      6\u001b[0m     \u001b[0mnormal_test_results\u001b[0m\u001b[1;33m[\u001b[0m\u001b[0mcolumn\u001b[0m\u001b[1;33m]\u001b[0m \u001b[1;33m=\u001b[0m \u001b[1;33m{\u001b[0m\u001b[1;34m'Normal Test Statistic'\u001b[0m\u001b[1;33m:\u001b[0m \u001b[0mstatistic\u001b[0m\u001b[1;33m,\u001b[0m \u001b[1;34m'P-value'\u001b[0m\u001b[1;33m:\u001b[0m \u001b[0mp_value\u001b[0m\u001b[1;33m}\u001b[0m\u001b[1;33m\u001b[0m\u001b[1;33m\u001b[0m\u001b[0m\n\u001b[0;32m      7\u001b[0m \u001b[1;33m\u001b[0m\u001b[0m\n",
      "\u001b[1;32mc:\\Users\\JDJ\\AppData\\Local\\Programs\\Python\\Python310\\lib\\site-packages\\scipy\\stats\\_stats_py.py\u001b[0m in \u001b[0;36mnormaltest\u001b[1;34m(a, axis, nan_policy)\u001b[0m\n\u001b[0;32m   1863\u001b[0m         \u001b[1;32mreturn\u001b[0m \u001b[0mmstats_basic\u001b[0m\u001b[1;33m.\u001b[0m\u001b[0mnormaltest\u001b[0m\u001b[1;33m(\u001b[0m\u001b[0ma\u001b[0m\u001b[1;33m,\u001b[0m \u001b[0maxis\u001b[0m\u001b[1;33m)\u001b[0m\u001b[1;33m\u001b[0m\u001b[1;33m\u001b[0m\u001b[0m\n\u001b[0;32m   1864\u001b[0m \u001b[1;33m\u001b[0m\u001b[0m\n\u001b[1;32m-> 1865\u001b[1;33m     \u001b[0ms\u001b[0m\u001b[1;33m,\u001b[0m \u001b[0m_\u001b[0m \u001b[1;33m=\u001b[0m \u001b[0mskewtest\u001b[0m\u001b[1;33m(\u001b[0m\u001b[0ma\u001b[0m\u001b[1;33m,\u001b[0m \u001b[0maxis\u001b[0m\u001b[1;33m)\u001b[0m\u001b[1;33m\u001b[0m\u001b[1;33m\u001b[0m\u001b[0m\n\u001b[0m\u001b[0;32m   1866\u001b[0m     \u001b[0mk\u001b[0m\u001b[1;33m,\u001b[0m \u001b[0m_\u001b[0m \u001b[1;33m=\u001b[0m \u001b[0mkurtosistest\u001b[0m\u001b[1;33m(\u001b[0m\u001b[0ma\u001b[0m\u001b[1;33m,\u001b[0m \u001b[0maxis\u001b[0m\u001b[1;33m)\u001b[0m\u001b[1;33m\u001b[0m\u001b[1;33m\u001b[0m\u001b[0m\n\u001b[0;32m   1867\u001b[0m     \u001b[0mk2\u001b[0m \u001b[1;33m=\u001b[0m \u001b[0ms\u001b[0m\u001b[1;33m*\u001b[0m\u001b[0ms\u001b[0m \u001b[1;33m+\u001b[0m \u001b[0mk\u001b[0m\u001b[1;33m*\u001b[0m\u001b[0mk\u001b[0m\u001b[1;33m\u001b[0m\u001b[1;33m\u001b[0m\u001b[0m\n",
      "\u001b[1;32mc:\\Users\\JDJ\\AppData\\Local\\Programs\\Python\\Python310\\lib\\site-packages\\scipy\\stats\\_stats_py.py\u001b[0m in \u001b[0;36mskewtest\u001b[1;34m(a, axis, nan_policy, alternative)\u001b[0m\n\u001b[0;32m   1665\u001b[0m         \u001b[0ma\u001b[0m \u001b[1;33m=\u001b[0m \u001b[0mnp\u001b[0m\u001b[1;33m.\u001b[0m\u001b[0mravel\u001b[0m\u001b[1;33m(\u001b[0m\u001b[0ma\u001b[0m\u001b[1;33m)\u001b[0m\u001b[1;33m\u001b[0m\u001b[1;33m\u001b[0m\u001b[0m\n\u001b[0;32m   1666\u001b[0m         \u001b[0maxis\u001b[0m \u001b[1;33m=\u001b[0m \u001b[1;36m0\u001b[0m\u001b[1;33m\u001b[0m\u001b[1;33m\u001b[0m\u001b[0m\n\u001b[1;32m-> 1667\u001b[1;33m     \u001b[0mb2\u001b[0m \u001b[1;33m=\u001b[0m \u001b[0mskew\u001b[0m\u001b[1;33m(\u001b[0m\u001b[0ma\u001b[0m\u001b[1;33m,\u001b[0m \u001b[0maxis\u001b[0m\u001b[1;33m)\u001b[0m\u001b[1;33m\u001b[0m\u001b[1;33m\u001b[0m\u001b[0m\n\u001b[0m\u001b[0;32m   1668\u001b[0m     \u001b[0mn\u001b[0m \u001b[1;33m=\u001b[0m \u001b[0ma\u001b[0m\u001b[1;33m.\u001b[0m\u001b[0mshape\u001b[0m\u001b[1;33m[\u001b[0m\u001b[0maxis\u001b[0m\u001b[1;33m]\u001b[0m\u001b[1;33m\u001b[0m\u001b[1;33m\u001b[0m\u001b[0m\n\u001b[0;32m   1669\u001b[0m     \u001b[1;32mif\u001b[0m \u001b[0mn\u001b[0m \u001b[1;33m<\u001b[0m \u001b[1;36m8\u001b[0m\u001b[1;33m:\u001b[0m\u001b[1;33m\u001b[0m\u001b[1;33m\u001b[0m\u001b[0m\n",
      "\u001b[1;32mc:\\Users\\JDJ\\AppData\\Local\\Programs\\Python\\Python310\\lib\\site-packages\\scipy\\stats\\_axis_nan_policy.py\u001b[0m in \u001b[0;36maxis_nan_policy_wrapper\u001b[1;34m(***failed resolving arguments***)\u001b[0m\n\u001b[0;32m    501\u001b[0m                 \u001b[1;32mif\u001b[0m \u001b[0msentinel\u001b[0m\u001b[1;33m:\u001b[0m\u001b[1;33m\u001b[0m\u001b[1;33m\u001b[0m\u001b[0m\n\u001b[0;32m    502\u001b[0m                     \u001b[0msamples\u001b[0m \u001b[1;33m=\u001b[0m \u001b[0m_remove_sentinel\u001b[0m\u001b[1;33m(\u001b[0m\u001b[0msamples\u001b[0m\u001b[1;33m,\u001b[0m \u001b[0mpaired\u001b[0m\u001b[1;33m,\u001b[0m \u001b[0msentinel\u001b[0m\u001b[1;33m)\u001b[0m\u001b[1;33m\u001b[0m\u001b[1;33m\u001b[0m\u001b[0m\n\u001b[1;32m--> 503\u001b[1;33m                 \u001b[0mres\u001b[0m \u001b[1;33m=\u001b[0m \u001b[0mhypotest_fun_out\u001b[0m\u001b[1;33m(\u001b[0m\u001b[1;33m*\u001b[0m\u001b[0msamples\u001b[0m\u001b[1;33m,\u001b[0m \u001b[1;33m**\u001b[0m\u001b[0mkwds\u001b[0m\u001b[1;33m)\u001b[0m\u001b[1;33m\u001b[0m\u001b[1;33m\u001b[0m\u001b[0m\n\u001b[0m\u001b[0;32m    504\u001b[0m                 \u001b[0mres\u001b[0m \u001b[1;33m=\u001b[0m \u001b[0mresult_to_tuple\u001b[0m\u001b[1;33m(\u001b[0m\u001b[0mres\u001b[0m\u001b[1;33m)\u001b[0m\u001b[1;33m\u001b[0m\u001b[1;33m\u001b[0m\u001b[0m\n\u001b[0;32m    505\u001b[0m                 \u001b[0mres\u001b[0m \u001b[1;33m=\u001b[0m \u001b[0m_add_reduced_axes\u001b[0m\u001b[1;33m(\u001b[0m\u001b[0mres\u001b[0m\u001b[1;33m,\u001b[0m \u001b[0mreduced_axes\u001b[0m\u001b[1;33m,\u001b[0m \u001b[0mkeepdims\u001b[0m\u001b[1;33m)\u001b[0m\u001b[1;33m\u001b[0m\u001b[1;33m\u001b[0m\u001b[0m\n",
      "\u001b[1;32mc:\\Users\\JDJ\\AppData\\Local\\Programs\\Python\\Python310\\lib\\site-packages\\scipy\\stats\\_stats_py.py\u001b[0m in \u001b[0;36mskew\u001b[1;34m(a, axis, bias, nan_policy)\u001b[0m\n\u001b[0;32m   1338\u001b[0m         \u001b[1;32mreturn\u001b[0m \u001b[0mmstats_basic\u001b[0m\u001b[1;33m.\u001b[0m\u001b[0mskew\u001b[0m\u001b[1;33m(\u001b[0m\u001b[0ma\u001b[0m\u001b[1;33m,\u001b[0m \u001b[0maxis\u001b[0m\u001b[1;33m,\u001b[0m \u001b[0mbias\u001b[0m\u001b[1;33m)\u001b[0m\u001b[1;33m\u001b[0m\u001b[1;33m\u001b[0m\u001b[0m\n\u001b[0;32m   1339\u001b[0m \u001b[1;33m\u001b[0m\u001b[0m\n\u001b[1;32m-> 1340\u001b[1;33m     \u001b[0mmean\u001b[0m \u001b[1;33m=\u001b[0m \u001b[0ma\u001b[0m\u001b[1;33m.\u001b[0m\u001b[0mmean\u001b[0m\u001b[1;33m(\u001b[0m\u001b[0maxis\u001b[0m\u001b[1;33m,\u001b[0m \u001b[0mkeepdims\u001b[0m\u001b[1;33m=\u001b[0m\u001b[1;32mTrue\u001b[0m\u001b[1;33m)\u001b[0m\u001b[1;33m\u001b[0m\u001b[1;33m\u001b[0m\u001b[0m\n\u001b[0m\u001b[0;32m   1341\u001b[0m     \u001b[0mm2\u001b[0m \u001b[1;33m=\u001b[0m \u001b[0m_moment\u001b[0m\u001b[1;33m(\u001b[0m\u001b[0ma\u001b[0m\u001b[1;33m,\u001b[0m \u001b[1;36m2\u001b[0m\u001b[1;33m,\u001b[0m \u001b[0maxis\u001b[0m\u001b[1;33m,\u001b[0m \u001b[0mmean\u001b[0m\u001b[1;33m=\u001b[0m\u001b[0mmean\u001b[0m\u001b[1;33m)\u001b[0m\u001b[1;33m\u001b[0m\u001b[1;33m\u001b[0m\u001b[0m\n\u001b[0;32m   1342\u001b[0m     \u001b[0mm3\u001b[0m \u001b[1;33m=\u001b[0m \u001b[0m_moment\u001b[0m\u001b[1;33m(\u001b[0m\u001b[0ma\u001b[0m\u001b[1;33m,\u001b[0m \u001b[1;36m3\u001b[0m\u001b[1;33m,\u001b[0m \u001b[0maxis\u001b[0m\u001b[1;33m,\u001b[0m \u001b[0mmean\u001b[0m\u001b[1;33m=\u001b[0m\u001b[0mmean\u001b[0m\u001b[1;33m)\u001b[0m\u001b[1;33m\u001b[0m\u001b[1;33m\u001b[0m\u001b[0m\n",
      "\u001b[1;32mc:\\Users\\JDJ\\AppData\\Local\\Programs\\Python\\Python310\\lib\\site-packages\\numpy\\core\\_methods.py\u001b[0m in \u001b[0;36m_mean\u001b[1;34m(a, axis, dtype, out, keepdims, where)\u001b[0m\n\u001b[0;32m    180\u001b[0m     \u001b[0mret\u001b[0m \u001b[1;33m=\u001b[0m \u001b[0mumr_sum\u001b[0m\u001b[1;33m(\u001b[0m\u001b[0marr\u001b[0m\u001b[1;33m,\u001b[0m \u001b[0maxis\u001b[0m\u001b[1;33m,\u001b[0m \u001b[0mdtype\u001b[0m\u001b[1;33m,\u001b[0m \u001b[0mout\u001b[0m\u001b[1;33m,\u001b[0m \u001b[0mkeepdims\u001b[0m\u001b[1;33m,\u001b[0m \u001b[0mwhere\u001b[0m\u001b[1;33m=\u001b[0m\u001b[0mwhere\u001b[0m\u001b[1;33m)\u001b[0m\u001b[1;33m\u001b[0m\u001b[1;33m\u001b[0m\u001b[0m\n\u001b[0;32m    181\u001b[0m     \u001b[1;32mif\u001b[0m \u001b[0misinstance\u001b[0m\u001b[1;33m(\u001b[0m\u001b[0mret\u001b[0m\u001b[1;33m,\u001b[0m \u001b[0mmu\u001b[0m\u001b[1;33m.\u001b[0m\u001b[0mndarray\u001b[0m\u001b[1;33m)\u001b[0m\u001b[1;33m:\u001b[0m\u001b[1;33m\u001b[0m\u001b[1;33m\u001b[0m\u001b[0m\n\u001b[1;32m--> 182\u001b[1;33m         ret = um.true_divide(\n\u001b[0m\u001b[0;32m    183\u001b[0m                 ret, rcount, out=ret, casting='unsafe', subok=False)\n\u001b[0;32m    184\u001b[0m         \u001b[1;32mif\u001b[0m \u001b[0mis_float16_result\u001b[0m \u001b[1;32mand\u001b[0m \u001b[0mout\u001b[0m \u001b[1;32mis\u001b[0m \u001b[1;32mNone\u001b[0m\u001b[1;33m:\u001b[0m\u001b[1;33m\u001b[0m\u001b[1;33m\u001b[0m\u001b[0m\n",
      "\u001b[1;31mTypeError\u001b[0m: unsupported operand type(s) for /: 'str' and 'int'"
     ]
    }
   ],
   "source": [
    "\n",
    "\n",
    "# Perform the Normal test for each column in the DataFrame\n",
    "normal_test_results = {}\n",
    "\n",
    "for column in df.columns:\n",
    "    statistic, p_value = normaltest(df[column])\n",
    "    normal_test_results[column] = {'Normal Test Statistic': statistic, 'P-value': p_value}\n",
    "\n",
    "# Output the Normal test results for each column\n",
    "for column, results in normal_test_results.items():\n",
    "    print(f\"Column: {column}\")\n",
    "    print(f\"Normal Test Statistic: {results['Normal Test Statistic']}\")\n",
    "    print(f\"P-value: {results['P-value']*100 :.3f}%\")\n",
    "    if results['P-value'] < 0.05:\n",
    "        print(\"The data in this column does not follow a normal distribution.\")\n",
    "    else:\n",
    "        print(\"The data in this column follows a normal distribution.\")\n",
    "    print()\n"
   ]
  },
  {
   "cell_type": "code",
   "execution_count": null,
   "metadata": {},
   "outputs": [
    {
     "name": "stdout",
     "output_type": "stream",
     "text": [
      "Correlation between Literacy Score and Financial Behavioral Score for Developing Countries: 0.7228519035118662\n",
      "Correlation between Literacy Score and Financial Behavioral Score for Developed Countries: 0.6612596997868992\n",
      "Normal Test for Literacy Score in Developing Countries: NormaltestResult(statistic=4.195136790584004, pvalue=0.12275455619820894)\n",
      "Normal Test for Literacy Score in Developed Countries: NormaltestResult(statistic=0.028943476638708797, pvalue=0.9856324739689759)\n"
     ]
    }
   ],
   "source": [
    "\n",
    "# Separate the data for Developing and Developed countries\n",
    "developing_countries_data = df[df['Economy Type'] == 'Developing']\n",
    "developed_countries_data = df[df['Economy Type'] == 'Developed']\n",
    "\n",
    "# Calculate the correlation between Literacy Score and Financial Behavioral Score for Developing and Developed countries\n",
    "developing_corr_literacy, _ = pearsonr(developing_countries_data['Financial Literacy Score'], developing_countries_data['Financial Behaviour Score'])\n",
    "developed_corr_literacy, _ = pearsonr(developed_countries_data['Financial Literacy Score'], developed_countries_data['Financial Behaviour Score'])\n",
    "\n",
    "# Perform Normal test to compare the effect of Literacy Score and Economic Status on Financial Behavioral Score\n",
    "normaltest_literacy_developing = normaltest(developing_countries_data['Financial Literacy Score'])\n",
    "normaltest_literacy_developed = normaltest(developed_countries_data['Financial Literacy Score'])\n",
    "\n",
    "# Output the results\n",
    "print(\"Correlation between Literacy Score and Financial Behavioral Score for Developing Countries:\", developing_corr_literacy)\n",
    "print(\"Correlation between Literacy Score and Financial Behavioral Score for Developed Countries:\", developed_corr_literacy)\n",
    "print(\"Normal Test for Literacy Score in Developing Countries:\", normaltest_literacy_developing)\n",
    "print(\"Normal Test for Literacy Score in Developed Countries:\", normaltest_literacy_developed)\n"
   ]
  }
 ],
 "metadata": {
  "kernelspec": {
   "display_name": "Python 3",
   "language": "python",
   "name": "python3"
  },
  "language_info": {
   "codemirror_mode": {
    "name": "ipython",
    "version": 3
   },
   "file_extension": ".py",
   "mimetype": "text/x-python",
   "name": "python",
   "nbconvert_exporter": "python",
   "pygments_lexer": "ipython3",
   "version": "3.10.7"
  }
 },
 "nbformat": 4,
 "nbformat_minor": 2
}

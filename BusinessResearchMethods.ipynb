{
 "cells": [
  {
   "cell_type": "code",
   "execution_count": 175,
   "metadata": {},
   "outputs": [],
   "source": [
    "import pandas as pd\n",
    "import numpy as np\n",
    "import matplotlib.pyplot as plt\n",
    "from sklearn.linear_model import LinearRegression\n",
    "from sklearn.preprocessing import StandardScaler\n",
    "from scipy.stats import pearsonr, normaltest, ttest_ind, f_oneway\n"
   ]
  },
  {
   "cell_type": "code",
   "execution_count": 166,
   "metadata": {},
   "outputs": [
    {
     "data": {
      "text/html": [
       "<div>\n",
       "<style scoped>\n",
       "    .dataframe tbody tr th:only-of-type {\n",
       "        vertical-align: middle;\n",
       "    }\n",
       "\n",
       "    .dataframe tbody tr th {\n",
       "        vertical-align: top;\n",
       "    }\n",
       "\n",
       "    .dataframe thead th {\n",
       "        text-align: right;\n",
       "    }\n",
       "</style>\n",
       "<table border=\"1\" class=\"dataframe\">\n",
       "  <thead>\n",
       "    <tr style=\"text-align: right;\">\n",
       "      <th></th>\n",
       "      <th>Financial Knowledge Score</th>\n",
       "      <th>Financial Behaviour Score</th>\n",
       "      <th>Financial Attitudes Score</th>\n",
       "      <th>Financial Literacy Score</th>\n",
       "      <th>Economy Type</th>\n",
       "    </tr>\n",
       "    <tr>\n",
       "      <th>Country or Economy</th>\n",
       "      <th></th>\n",
       "      <th></th>\n",
       "      <th></th>\n",
       "      <th></th>\n",
       "      <th></th>\n",
       "    </tr>\n",
       "  </thead>\n",
       "  <tbody>\n",
       "    <tr>\n",
       "      <th>Albania</th>\n",
       "      <td>20.159410</td>\n",
       "      <td>22.994884</td>\n",
       "      <td>13.245693</td>\n",
       "      <td>56.399986</td>\n",
       "      <td>Developing</td>\n",
       "    </tr>\n",
       "    <tr>\n",
       "      <th>Brazil</th>\n",
       "      <td>18.557501</td>\n",
       "      <td>30.490000</td>\n",
       "      <td>10.591250</td>\n",
       "      <td>59.638748</td>\n",
       "      <td>Developing</td>\n",
       "    </tr>\n",
       "    <tr>\n",
       "      <th>Cambodia</th>\n",
       "      <td>14.531676</td>\n",
       "      <td>23.787230</td>\n",
       "      <td>10.289666</td>\n",
       "      <td>48.608570</td>\n",
       "      <td>Developing</td>\n",
       "    </tr>\n",
       "    <tr>\n",
       "      <th>Chile</th>\n",
       "      <td>21.588284</td>\n",
       "      <td>24.488449</td>\n",
       "      <td>10.030941</td>\n",
       "      <td>56.107674</td>\n",
       "      <td>Developing</td>\n",
       "    </tr>\n",
       "    <tr>\n",
       "      <th>Costa Rica</th>\n",
       "      <td>20.705128</td>\n",
       "      <td>25.901709</td>\n",
       "      <td>9.867521</td>\n",
       "      <td>56.474358</td>\n",
       "      <td>Developing</td>\n",
       "    </tr>\n",
       "  </tbody>\n",
       "</table>\n",
       "</div>"
      ],
      "text/plain": [
       "                    Financial Knowledge Score  Financial Behaviour Score  \\\n",
       "Country or Economy                                                         \n",
       "Albania                             20.159410                  22.994884   \n",
       "Brazil                              18.557501                  30.490000   \n",
       "Cambodia                            14.531676                  23.787230   \n",
       "Chile                               21.588284                  24.488449   \n",
       "Costa Rica                          20.705128                  25.901709   \n",
       "\n",
       "                    Financial Attitudes Score  Financial Literacy Score  \\\n",
       "Country or Economy                                                        \n",
       "Albania                             13.245693                 56.399986   \n",
       "Brazil                              10.591250                 59.638748   \n",
       "Cambodia                            10.289666                 48.608570   \n",
       "Chile                               10.030941                 56.107674   \n",
       "Costa Rica                           9.867521                 56.474358   \n",
       "\n",
       "                   Economy Type  \n",
       "Country or Economy               \n",
       "Albania              Developing  \n",
       "Brazil               Developing  \n",
       "Cambodia             Developing  \n",
       "Chile                Developing  \n",
       "Costa Rica           Developing  "
      ]
     },
     "execution_count": 166,
     "metadata": {},
     "output_type": "execute_result"
    }
   ],
   "source": [
    "df = pd.read_excel(\"finwellbeing.xlsx\")\n",
    "df = df.set_index('Country or Economy')\n",
    "df.head()"
   ]
  },
  {
   "cell_type": "code",
   "execution_count": 167,
   "metadata": {},
   "outputs": [
    {
     "name": "stdout",
     "output_type": "stream",
     "text": [
      "Column: Financial Knowledge Score\n",
      "Normal Test Statistic: 0.8952292111978397\n",
      "P-value: 63.915%\n",
      "The data in this column follows a normal distribution.\n",
      "\n",
      "Column: Financial Behaviour Score\n",
      "Normal Test Statistic: 0.8220473703036386\n",
      "P-value: 66.297%\n",
      "The data in this column follows a normal distribution.\n",
      "\n",
      "Column: Financial Attitudes Score\n",
      "Normal Test Statistic: 3.6481752455864074\n",
      "P-value: 16.136%\n",
      "The data in this column follows a normal distribution.\n",
      "\n",
      "Column: Financial Literacy Score\n",
      "Normal Test Statistic: 1.0812871321842046\n",
      "P-value: 58.237%\n",
      "The data in this column follows a normal distribution.\n",
      "\n"
     ]
    }
   ],
   "source": [
    "# Perform the Normal test for each column in the DataFrame\n",
    "normal_test_results = {}\n",
    "\n",
    "for column in df.drop(['Economy Type'],axis=1).columns:\n",
    "    statistic, p_value = normaltest(df.drop(['Economy Type'],axis=1)[column])\n",
    "    normal_test_results[column] = {'Normal Test Statistic': statistic, 'P-value': p_value}\n",
    "\n",
    "# Output the Normal test results for each column\n",
    "for column, results in normal_test_results.items():\n",
    "    print(f\"Column: {column}\")\n",
    "    print(f\"Normal Test Statistic: {results['Normal Test Statistic']}\")\n",
    "    print(f\"P-value: {results['P-value']*100 :.3f}%\")\n",
    "    if results['P-value'] < 0.05:\n",
    "        print(\"The data in this column does not follow a normal distribution.\")\n",
    "    else:\n",
    "        print(\"The data in this column follows a normal distribution.\")\n",
    "    print()\n"
   ]
  },
  {
   "cell_type": "code",
   "execution_count": 168,
   "metadata": {},
   "outputs": [
    {
     "name": "stdout",
     "output_type": "stream",
     "text": [
      "                           Financial Knowledge Score  \\\n",
      "Financial Knowledge Score                   1.000000   \n",
      "Financial Behaviour Score                   0.138143   \n",
      "Financial Attitudes Score                   0.321436   \n",
      "Financial Literacy Score                    0.741831   \n",
      "\n",
      "                           Financial Behaviour Score  \\\n",
      "Financial Knowledge Score                   0.138143   \n",
      "Financial Behaviour Score                   1.000000   \n",
      "Financial Attitudes Score                   0.314430   \n",
      "Financial Literacy Score                    0.726173   \n",
      "\n",
      "                           Financial Attitudes Score  Financial Literacy Score  \n",
      "Financial Knowledge Score                   0.321436                  0.741831  \n",
      "Financial Behaviour Score                   0.314430                  0.726173  \n",
      "Financial Attitudes Score                   1.000000                  0.618996  \n",
      "Financial Literacy Score                    0.618996                  1.000000  \n"
     ]
    }
   ],
   "source": [
    "# Compute the correlation matrix\n",
    "correlation_matrix = df.drop(['Economy Type'],axis=1).corr()\n",
    "print(correlation_matrix)\n"
   ]
  },
  {
   "cell_type": "code",
   "execution_count": 169,
   "metadata": {},
   "outputs": [
    {
     "data": {
      "image/png": "[encoded data removed]",
      "text/plain": [
       "<Figure size 432x288 with 1 Axes>"
      ]
     },
     "metadata": {
      "needs_background": "light"
     },
     "output_type": "display_data"
    },
    {
     "data": {
      "image/png": "[encoded data removed]",
      "text/plain": [
       "<Figure size 432x288 with 1 Axes>"
      ]
     },
     "metadata": {
      "needs_background": "light"
     },
     "output_type": "display_data"
    },
    {
     "data": {
      "image/png": "[encoded data removed]",
      "text/plain": [
       "<Figure size 432x288 with 1 Axes>"
      ]
     },
     "metadata": {
      "needs_background": "light"
     },
     "output_type": "display_data"
    },
    {
     "data": {
      "image/png": "[encoded data removed]",
      "text/plain": [
       "<Figure size 432x288 with 1 Axes>"
      ]
     },
     "metadata": {
      "needs_background": "light"
     },
     "output_type": "display_data"
    }
   ],
   "source": [
    "#See if the distribution is Normal\n",
    "df['Financial Knowledge Score'].plot(kind='hist', title='Histogram of Financial Knowledge Score')\n",
    "plt.show()\n",
    "df['Financial Behaviour Score'].plot(kind='hist', title='Histogram of Financial Behaviour Score')\n",
    "plt.show()\n",
    "df['Financial Attitudes Score'].plot(kind='hist', title='Histogram of Financial Attitudes Score')\n",
    "plt.show()\n",
    "df['Financial Literacy Score'].plot(kind='hist', title='Histogram of Financial Literacy Score')\n",
    "plt.show()\n"
   ]
  },
  {
   "cell_type": "code",
   "execution_count": 170,
   "metadata": {},
   "outputs": [],
   "source": [
    "# Initialize the StandardScaler\n",
    "scaler = StandardScaler()\n",
    "\n",
    "# Fit and transform the data to normalize it\n",
    "normalized_data = scaler.fit_transform(df.drop('Economy Type',axis=1))\n",
    "\n",
    "# Convert the normalized data back to a pandas DataFrame\n",
    "normalized_df = pd.DataFrame(normalized_data, columns=df.drop('Economy Type',axis=1).columns)"
   ]
  },
  {
   "cell_type": "code",
   "execution_count": 171,
   "metadata": {},
   "outputs": [],
   "source": [
    "# Fit Linear Regression Model\n",
    "def scatter_plot(normalized_df,factor):\n",
    "    X = normalized_df[[factor]]\n",
    "    y = normalized_df['Financial Behaviour Score']\n",
    "\n",
    "    model = LinearRegression()\n",
    "    model.fit(X, y)\n",
    "\n",
    "    # Create a scatter plot\n",
    "    plt.figure(figsize=(10, 6))\n",
    "    plt.scatter(X, y, color='blue', alpha=0.7)\n",
    "    plt.plot(X, model.predict(X), color='red', linewidth=2)  # Plot the regression line\n",
    "    plt.title('Scatter Plot with Linear Regression Line')\n",
    "    plt.xlabel(factor)\n",
    "    plt.ylabel('Financial Behaviour Score')\n",
    "    plt.grid(True)\n",
    "    plt.show()\n",
    "\n",
    "    # Print the coefficients of the linear regression model\n",
    "    print('Coefficient:', model.coef_[0])\n",
    "    print('Intercept:', model.intercept_)\n",
    "    print(f'{model.coef_[0]}x + {model.intercept_}')\n"
   ]
  },
  {
   "cell_type": "code",
   "execution_count": 172,
   "metadata": {},
   "outputs": [
    {
     "name": "stdout",
     "output_type": "stream",
     "text": [
      "for Developing countries,\n",
      "Correlation between Financial Behaviour Score and Financial Knowledge Score: -0.12495272680535668, p-value: 1.734091605416133e-05, t-test: 4.996833286770083\n",
      "Correlation between Financial Behaviour Score and Financial Attitudes Score: 0.4395382434229296, p-value: 1.6749857994718295e-16, t-test: 14.938138513939533\n",
      "Correlation between Financial Behaviour Score and Financial Literacy Score: 0.7228519035118662, p-value: 4.0796674396051016e-19, t-test: -18.21854804186528\n",
      "\n",
      "The factor that has the highest correlation with Financial Behaviour Score is:\n",
      " ▣ Financial Literacy Score\n"
     ]
    },
    {
     "data": {
      "image/png": "[encoded data removed]",
      "text/plain": [
       "<Figure size 720x432 with 1 Axes>"
      ]
     },
     "metadata": {
      "needs_background": "light"
     },
     "output_type": "display_data"
    },
    {
     "name": "stdout",
     "output_type": "stream",
     "text": [
      "Coefficient: 0.47619446650549785\n",
      "Intercept: -1.0202017678001951\n",
      "0.47619446650549785x + -1.0202017678001951\n"
     ]
    }
   ],
   "source": [
    "# Calculate the correlation between each factor and Financial Behaviour Score\n",
    "correlations = {}\n",
    "\n",
    "EconomicType = ['Developing', 'Developed'][0]\n",
    "typed_df = df.loc[df['Economy Type']==EconomicType] \n",
    "\n",
    "for column in typed_df.drop('Economy Type',axis=1).columns[:]:\n",
    "    if column != 'Financial Behaviour Score':\n",
    "        corr, _ = pearsonr(typed_df['Financial Behaviour Score'], typed_df[column])\n",
    "        t_stat, p_value = ttest_ind(typed_df['Financial Behaviour Score'], typed_df[column])\n",
    "        correlations[column] = {'correlation': corr, 'p-value': p_value,'t_stat':t_stat}\n",
    "\n",
    "# Find the factor with the highest correlation\n",
    "max_corr_factor = max(correlations, key=lambda x: abs(correlations[x]['correlation']))\n",
    "\n",
    "print(f'for {EconomicType} countries,')\n",
    "\n",
    "# Output the correlation results and confidence levels\n",
    "for factor, values in correlations.items():\n",
    "    print(f\"Correlation between Financial Behaviour Score and {factor}: {values['correlation']}, p-value: {values['p-value']}, t-test: {values['t_stat']}\")\n",
    "\n",
    "print(f\"\\nThe factor that has the highest correlation with Financial Behaviour Score is:\\n ▣ {max_corr_factor}\")\n",
    "scatter_plot(typed_df,max_corr_factor)"
   ]
  },
  {
   "cell_type": "code",
   "execution_count": 173,
   "metadata": {},
   "outputs": [
    {
     "name": "stdout",
     "output_type": "stream",
     "text": [
      "for Developed countries,\n",
      "Correlation between Financial Behaviour Score and Financial Knowledge Score: 0.0942550187578039, p-value: 6.401758992284687e-05, t-test: 4.464658246800976\n",
      "Correlation between Financial Behaviour Score and Financial Attitudes Score: 0.05007105414535357, p-value: 3.29069471712891e-23, t-test: 20.996220088493303\n",
      "Correlation between Financial Behaviour Score and Financial Literacy Score: 0.6612596997868992, p-value: 1.5479141411415593e-25, t-test: -24.254734857982086\n",
      "\n",
      "The factor that has the highest correlation with Financial Behaviour Score is:\n",
      " ▣ Financial Literacy Score\n"
     ]
    },
    {
     "data": {
      "image/png": "[encoded data removed]",
      "text/plain": [
       "<Figure size 720x432 with 1 Axes>"
      ]
     },
     "metadata": {
      "needs_background": "light"
     },
     "output_type": "display_data"
    },
    {
     "name": "stdout",
     "output_type": "stream",
     "text": [
      "Coefficient: 0.3875683942319014\n",
      "Intercept: 3.8102749065754686\n",
      "0.3875683942319014x + 3.8102749065754686\n"
     ]
    }
   ],
   "source": [
    "\n",
    "# Calculate the correlation between each factor and Financial Behaviour Score\n",
    "correlations = {}\n",
    "\n",
    "EconomicType = ['Developing', 'Developed'][1]\n",
    "typed_df = df.loc[df['Economy Type']==EconomicType] \n",
    "\n",
    "for column in typed_df.drop('Economy Type',axis=1).columns[:]:\n",
    "    if column != 'Financial Behaviour Score':\n",
    "        corr, _ = pearsonr(typed_df['Financial Behaviour Score'], typed_df[column])\n",
    "        t_stat, p_value = ttest_ind(typed_df['Financial Behaviour Score'], typed_df[column])\n",
    "        correlations[column] = {'correlation': corr, 'p-value': p_value,'t_stat':t_stat}\n",
    "\n",
    "# Find the factor with the highest correlation\n",
    "max_corr_factor = max(correlations, key=lambda x: abs(correlations[x]['correlation']))\n",
    "\n",
    "print(f'for {EconomicType} countries,')\n",
    "\n",
    "# Output the correlation results and confidence levels\n",
    "for factor, values in correlations.items():\n",
    "    print(f\"Correlation between Financial Behaviour Score and {factor}: {values['correlation']}, p-value: {values['p-value']}, t-test: {values['t_stat']}\")\n",
    "\n",
    "print(f\"\\nThe factor that has the highest correlation with Financial Behaviour Score is:\\n ▣ {max_corr_factor}\")\n",
    "scatter_plot(typed_df,max_corr_factor)"
   ]
  },
  {
   "cell_type": "code",
   "execution_count": 174,
   "metadata": {},
   "outputs": [
    {
     "name": "stdout",
     "output_type": "stream",
     "text": [
      "Correlation between Literacy Score and Financial Behavioral Score for Developing Countries: 0.7228519035118662\n",
      "Correlation between Literacy Score and Financial Behavioral Score for Developed Countries: 0.6612596997868992\n",
      "Normal Test for Literacy Score in Developing Countries: NormaltestResult(statistic=4.195136790584004, pvalue=0.12275455619820894)\n",
      "Normal Test for Literacy Score in Developed Countries: NormaltestResult(statistic=0.028943476638708797, pvalue=0.9856324739689759)\n"
     ]
    },
    {
     "name": "stderr",
     "output_type": "stream",
     "text": [
      "c:\\Users\\JDJ\\AppData\\Local\\Programs\\Python\\Python310\\lib\\site-packages\\scipy\\stats\\_stats_py.py:1769: UserWarning: kurtosistest only valid for n>=20 ... continuing anyway, n=18\n",
      "  warnings.warn(\"kurtosistest only valid for n>=20 ... continuing \"\n"
     ]
    }
   ],
   "source": [
    "# Separate the data for Developing and Developed countries\n",
    "developing_countries_data = df[df['Economy Type'] == 'Developing']\n",
    "developed_countries_data = df[df['Economy Type'] == 'Developed']\n",
    "\n",
    "# Calculate the correlation between Literacy Score and Financial Behavioral Score for Developing and Developed countries\n",
    "developing_corr_literacy, _ = pearsonr(developing_countries_data['Financial Literacy Score'], developing_countries_data['Financial Behaviour Score'])\n",
    "developed_corr_literacy, _ = pearsonr(developed_countries_data['Financial Literacy Score'], developed_countries_data['Financial Behaviour Score'])\n",
    "\n",
    "# Perform Normal test to compare the effect of Literacy Score and Economic Status on Financial Behavioral Score\n",
    "normaltest_literacy_developing = normaltest(developing_countries_data['Financial Literacy Score'])\n",
    "normaltest_literacy_developed = normaltest(developed_countries_data['Financial Literacy Score'])\n",
    "\n",
    "# Output the results\n",
    "print(\"Correlation between Literacy Score and Financial Behavioral Score for Developing Countries:\", developing_corr_literacy)\n",
    "print(\"Correlation between Literacy Score and Financial Behavioral Score for Developed Countries:\", developed_corr_literacy)\n",
    "print(\"Normal Test for Literacy Score in Developing Countries:\", normaltest_literacy_developing)\n",
    "print(\"Normal Test for Literacy Score in Developed Countries:\", normaltest_literacy_developed)\n",
    "\n"
   ]
  },
  {
   "cell_type": "code",
   "execution_count": 179,
   "metadata": {},
   "outputs": [
    {
     "name": "stdout",
     "output_type": "stream",
     "text": [
      "ANOVA F-Statistic: 4.114380440245212\n",
      "ANOVA P-Value: 0.0497642275405984\n",
      "The means of Financial Behavioral Score are significantly different between Developing and Developed countries.\n"
     ]
    }
   ],
   "source": [
    "developing_scores = df.loc[df['Economy Type'] == 'Developing']['Financial Behaviour Score']\n",
    "developed_scores = df.loc[df['Economy Type'] == 'Developed']['Financial Behaviour Score']\n",
    "\n",
    "f_statistic, p_value = f_oneway(developing_scores, developed_scores)\n",
    "\n",
    "# Output the ANOVA test results\n",
    "print(\"ANOVA F-Statistic:\", f_statistic)\n",
    "print(\"ANOVA P-Value:\", p_value)\n",
    "\n",
    "if p_value < 0.05:\n",
    "    print(\"The means of Financial Behavioral Score are significantly different between Developing and Developed countries.\")\n",
    "else:\n",
    "    print(\"There is no significant difference in the means of Financial Behavioral Score between Developing and Developed countries.\")"
   ]
  }
 ],
 "metadata": {
  "kernelspec": {
   "display_name": "Python 3",
   "language": "python",
   "name": "python3"
  },
  "language_info": {
   "codemirror_mode": {
    "name": "ipython",
    "version": 3
   },
   "file_extension": ".py",
   "mimetype": "text/x-python",
   "name": "python",
   "nbconvert_exporter": "python",
   "pygments_lexer": "ipython3",
   "version": "3.10.7"
  }
 },
 "nbformat": 4,
 "nbformat_minor": 2
}
